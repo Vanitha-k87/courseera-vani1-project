{
    "cells": [
        {
            "cell_type": "code",
            "execution_count": 1,
            "metadata": {},
            "outputs": [
                {
                    "name": "stdout",
                    "output_type": "stream",
                    "text": "Hai Friends This is my first Data SCience Project feel GOOD\n"
                }
            ],
            "source": "print(\"Hai Friends This is my first Data SCience Project feel GOOD\")\n      "
        },
        {
            "cell_type": "code",
            "execution_count": 2,
            "metadata": {},
            "outputs": [
                {
                    "name": "stdout",
                    "output_type": "stream",
                    "text": "Good Course for Data Science learning.Thank You\nGood Course for Data Science learning.Thank You\nGood Course for Data Science learning.Thank You\nGood Course for Data Science learning.Thank You\nGood Course for Data Science learning.Thank You\nGood Course for Data Science learning.Thank You\nGood Course for Data Science learning.Thank You\nGood Course for Data Science learning.Thank You\nGood Course for Data Science learning.Thank You\n"
                }
            ],
            "source": "for i in range(1,10):\n    print(\"Good Course for Data Science learning.Thank You\")"
        },
        {
            "cell_type": "code",
            "execution_count": 3,
            "metadata": {},
            "outputs": [
                {
                    "data": {
                        "text/plain": "7.0"
                    },
                    "execution_count": 3,
                    "metadata": {},
                    "output_type": "execute_result"
                }
            ],
            "source": "1+5*6/5"
        },
        {
            "cell_type": "code",
            "execution_count": null,
            "metadata": {},
            "outputs": [],
            "source": ""
        }
    ],
    "metadata": {
        "kernelspec": {
            "display_name": "Python 3.6",
            "language": "python",
            "name": "python3"
        },
        "language_info": {
            "codemirror_mode": {
                "name": "ipython",
                "version": 3
            },
            "file_extension": ".py",
            "mimetype": "text/x-python",
            "name": "python",
            "nbconvert_exporter": "python",
            "pygments_lexer": "ipython3",
            "version": "3.6.9"
        }
    },
    "nbformat": 4,
    "nbformat_minor": 1
}